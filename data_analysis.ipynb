{
 "cells": [
  {
   "cell_type": "markdown",
   "id": "d034f57d-6f11-446d-a71f-c6f47ea64734",
   "metadata": {},
   "source": [
    "# Import Packages"
   ]
  },
  {
   "cell_type": "code",
   "execution_count": 108,
   "id": "e57f1d64-4f3b-4523-a38a-e9a5d595eebd",
   "metadata": {},
   "outputs": [
    {
     "name": "stdout",
     "output_type": "stream",
     "text": [
      "The autoreload extension is already loaded. To reload it, use:\n",
      "  %reload_ext autoreload\n"
     ]
    }
   ],
   "source": [
    "from strava_api import StravaAPI\n",
    "from garmin_file_manager import CleanData,WrangleData, GarminDataManager\n",
    "import pandas as pd\n",
    "import time\n",
    "\n",
    "%load_ext autoreload\n",
    "%autoreload 2"
   ]
  },
  {
   "cell_type": "markdown",
   "id": "b3bc1da1-0a18-4873-b2f4-dc67fc8403fe",
   "metadata": {},
   "source": [
    "## Load Strava Data"
   ]
  },
  {
   "cell_type": "code",
   "execution_count": 109,
   "id": "15bbeeef-91c1-420b-b836-0633c26a9821",
   "metadata": {},
   "outputs": [
    {
     "name": "stdout",
     "output_type": "stream",
     "text": [
      "Requesting Token...\n",
      "\n"
     ]
    }
   ],
   "source": [
    "# init the api with the access token\n",
    "strava = StravaAPI()\n",
    "\n",
    "strava_data_pulls = []\n",
    "# through trial and error I know I have about 8 pages of data. We could probably automate this but for now this is fine\n",
    "page_nums = 8\n",
    "for page_num in range(page_nums):\n",
    "    strava_data_pulls.append(pd.json_normalize(strava.get_dataset(page_num = page_num + 1)))\n",
    "    # I don't want to overload my API limits, so I'll give it some time in between requests\n",
    "    time.sleep(.5)\n",
    "strava_data = pd.concat(strava_data_pulls, ignore_index = True)"
   ]
  },
  {
   "cell_type": "code",
   "execution_count": 113,
   "id": "73dd5a50-d317-43d3-a166-80c9ae39c5c8",
   "metadata": {},
   "outputs": [
    {
     "data": {
      "text/plain": [
       "Index(['resource_state', 'name', 'distance', 'moving_time', 'elapsed_time',\n",
       "       'total_elevation_gain', 'type', 'sport_type', 'workout_type', 'id',\n",
       "       'start_date', 'start_date_local', 'timezone', 'utc_offset',\n",
       "       'location_city', 'location_state', 'location_country',\n",
       "       'achievement_count', 'kudos_count', 'comment_count', 'athlete_count',\n",
       "       'photo_count', 'trainer', 'commute', 'manual', 'private', 'visibility',\n",
       "       'flagged', 'gear_id', 'start_latlng', 'end_latlng', 'average_speed',\n",
       "       'max_speed', 'average_cadence', 'average_temp', 'has_heartrate',\n",
       "       'average_heartrate', 'max_heartrate', 'heartrate_opt_out',\n",
       "       'display_hide_heartrate_option', 'elev_high', 'elev_low', 'upload_id',\n",
       "       'upload_id_str', 'external_id', 'from_accepted_tag', 'pr_count',\n",
       "       'total_photo_count', 'has_kudoed', 'athlete.id',\n",
       "       'athlete.resource_state', 'map.id', 'map.summary_polyline',\n",
       "       'map.resource_state', 'average_watts', 'kilojoules', 'device_watts'],\n",
       "      dtype='object')"
      ]
     },
     "execution_count": 113,
     "metadata": {},
     "output_type": "execute_result"
    }
   ],
   "source": [
    "strava_data.columns"
   ]
  },
  {
   "cell_type": "markdown",
   "id": "49b77b26-ac80-44a3-b557-28ee7da40965",
   "metadata": {},
   "source": [
    "## Load Garmin Data\n",
    "There are two ways to get your activities from Garmin. The first is signing into your Garmin connect account, clicking your activities on the sidebar, scrolling down for all the activities that you want to select, then clicking export data in the top right corner. The other involves plugging your watch into your computer, copying and pasting the FIT files, then converting them to excel files with Garming SDK. The first option is easiest in my opinion"
   ]
  },
  {
   "cell_type": "code",
   "execution_count": 64,
   "id": "c5eb81bf-8e03-4a83-b4f6-2211c3197e7c",
   "metadata": {},
   "outputs": [],
   "source": [
    "# read in the data from the csv files in data\n",
    "# we might need to read every singele file in data then concat them?\n",
    "file_path = 'data/' \n",
    "garmin_data = pd.read_csv(file_path + 'Activities_cole_munoz.csv')\n",
    "# clean the data\n",
    "garmin_data_clean = CleanData(garmin_data).data\n",
    "# wrangle the data\n",
    "garmin_data_wrangle = WrangleData(garmin_data_clean).data"
   ]
  },
  {
   "cell_type": "code",
   "execution_count": 114,
   "id": "9da663d8-c709-4ef1-9912-61255020bfd6",
   "metadata": {},
   "outputs": [
    {
     "data": {
      "text/plain": [
       "Index(['Activity Type', 'Date', 'Favorite', 'Title', 'Distance', 'Calories',\n",
       "       'Time', 'Avg HR', 'Max HR', 'Aerobic TE', 'Avg Run Cadence',\n",
       "       'Max Run Cadence', 'Avg Pace', 'Best Pace', 'Total Ascent',\n",
       "       'Total Descent', 'Avg Stride Length', 'Avg Vertical Ratio',\n",
       "       'Avg Vertical Oscillation', 'Avg Ground Contact Time',\n",
       "       'Avg Run Cadence.1', 'Max Run Cadence.1', 'Training Stress Score®',\n",
       "       'Avg Power', 'Max Power', 'Grit', 'Flow', 'Avg. Swolf',\n",
       "       'Avg Stroke Rate', 'Total Reps', 'Dive Time', 'Min Temp',\n",
       "       'Surface Interval', 'Decompression', 'Best Lap Time', 'Number of Laps',\n",
       "       'Max Temp', 'Moving Time', 'Elapsed Time', 'Min Elevation',\n",
       "       'Max Elevation', 'Day', 'Hour', 'Minute', 'Weekday'],\n",
       "      dtype='object')"
      ]
     },
     "execution_count": 114,
     "metadata": {},
     "output_type": "execute_result"
    }
   ],
   "source": [
    "garmin_data_wrangle.columns"
   ]
  }
 ],
 "metadata": {
  "kernelspec": {
   "display_name": "Python 3 (ipykernel)",
   "language": "python",
   "name": "python3"
  },
  "language_info": {
   "codemirror_mode": {
    "name": "ipython",
    "version": 3
   },
   "file_extension": ".py",
   "mimetype": "text/x-python",
   "name": "python",
   "nbconvert_exporter": "python",
   "pygments_lexer": "ipython3",
   "version": "3.11.5"
  }
 },
 "nbformat": 4,
 "nbformat_minor": 5
}
